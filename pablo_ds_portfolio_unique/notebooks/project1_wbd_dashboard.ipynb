{
 "cells": [
  {
   "cell_type": "markdown",
   "id": "1018317c",
   "metadata": {},
   "source": [
    "# WBD Content Intelligence Dashboard\n",
    "\n",
    "**Goal:** Merge TMDB (metadata), OMDb (IMDb ratings), and Wikipedia Pageviews to surface titles that overperform on interest vs rating.\n",
    "\n",
    "**Contact:** Pablo Monteros — [GitHub](https://github.com/Pmonteros8) • [LinkedIn](https://www.linkedin.com/in/pmonteros/) • [Email](mailto:Pablo.monterosj@gmail.com)"
   ]
  },
  {
   "cell_type": "code",
   "execution_count": null,
   "id": "5a2c30e6",
   "metadata": {},
   "outputs": [],
   "source": [
    "import os, requests, pandas as pd, plotly.express as px\n",
    "from dotenv import load_dotenv\n",
    "load_dotenv(\"config/.env\")\n",
    "TMDB_KEY = os.getenv(\"TMDB_API_KEY\")\n",
    "OMDB_KEY = os.getenv(\"OMDB_API_KEY\")\n",
    "assert TMDB_KEY, \"Missing TMDB_API_KEY in config/.env\"\n",
    "assert OMDB_KEY, \"Missing OMDB_API_KEY in config/.env\"\n",
    "\n",
    "def tmdb_search_company(name: str):\n",
    "    return requests.get(f\"https://api.themoviedb.org/3/search/company?api_key={TMDB_KEY}&query={name}\").json()\n",
    "\n",
    "def tmdb_discover_titles(company_id: int, content_type=\"movie\", page=1):\n",
    "    return requests.get(f\"https://api.themoviedb.org/3/discover/{content_type}?api_key={TMDB_KEY}&with_companies={company_id}&page={page}&sort_by=popularity.desc\").json()\n",
    "\n",
    "def tmdb_external_ids(content_type: str, tmdb_id: int):\n",
    "    return requests.get(f\"https://api.themoviedb.org/3/{content_type}/{tmdb_id}/external_ids?api_key={TMDB_KEY}\").json()\n",
    "\n",
    "def omdb_by_imdb_id(imdb_id: str):\n",
    "    return requests.get(f\"http://www.omdbapi.com/?i={imdb_id}&apikey={OMDB_KEY}\").json()\n",
    "\n",
    "def wiki_pageviews(title: str, start=\"20240101\", end=\"20241231\"):\n",
    "    url = f\"https://wikimedia.org/api/rest_v1/metrics/pageviews/per-article/en.wikipedia/all-access/all-agents/{title.replace(' ','_')}/daily/{start}/{end}\"\n",
    "    r = requests.get(url)\n",
    "    return [{\"date\": x[\"timestamp\"][:8], \"views\": x[\"views\"]} for x in r.json().get(\"items\", [])] if r.status_code==200 else []"
   ]
  },
  {
   "cell_type": "markdown",
   "id": "55081a4f",
   "metadata": {},
   "source": [
    "## Fetch titles"
   ]
  },
  {
   "cell_type": "code",
   "execution_count": null,
   "id": "30b443f2",
   "metadata": {},
   "outputs": [],
   "source": [
    "company = \"Warner Bros\"\n",
    "companies = tmdb_search_company(company).get(\"results\", [])\n",
    "cid = companies[0][\"id\"] if companies else None\n",
    "cid"
   ]
  },
  {
   "cell_type": "markdown",
   "id": "9d51ed28",
   "metadata": {},
   "source": [
    "## Enrich and visualize"
   ]
  },
  {
   "cell_type": "code",
   "execution_count": null,
   "id": "581e93b2",
   "metadata": {},
   "outputs": [],
   "source": [
    "titles = []\n",
    "for content_type in [\"movie\",\"tv\"]:\n",
    "    for page in range(1,4):\n",
    "        data = tmdb_discover_titles(cid, content_type, page)\n",
    "        for it in data.get(\"results\", []):\n",
    "            titles.append({\"content_type\": content_type, \"tmdb_id\": it[\"id\"], \"title\": it.get(\"title\") or it.get(\"name\"), \"popularity\": it.get(\"popularity\", 0)})\n",
    "rows = []\n",
    "for t in titles[:80]:\n",
    "    ext = tmdb_external_ids(t[\"content_type\"], t[\"tmdb_id\"])\n",
    "    imdb_id = ext.get(\"imdb_id\")\n",
    "    rating = None\n",
    "    if imdb_id:\n",
    "        om = omdb_by_imdb_id(imdb_id)\n",
    "        rating = float(om[\"imdbRating\"]) if om.get(\"imdbRating\") not in [None, \"N/A\"] else None\n",
    "    wv = wiki_pageviews(t[\"title\"])\n",
    "    views_total = sum([x[\"views\"] for x in wv]) if wv else None\n",
    "    rows.append({**t, \"imdb_id\": imdb_id, \"imdb_rating\": rating, \"wiki_views_2024\": views_total})\n",
    "df = pd.DataFrame(rows)\n",
    "df.head()"
   ]
  }
 ],
 "metadata": {},
 "nbformat": 4,
 "nbformat_minor": 5
}
